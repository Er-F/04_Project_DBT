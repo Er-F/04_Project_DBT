{
 "cells": [
  {
   "cell_type": "code",
   "execution_count": 9,
   "metadata": {},
   "outputs": [
    {
     "name": "stdout",
     "output_type": "stream",
     "text": [
      "Renamed 01_raw_w__AdventureWorksDWBuildVersion.csv to 01_raw_AdventureWorksDWBuildVersion.csv\n",
      "Renamed 01_raw_w__DatabaseLog.csv to 01_raw_DatabaseLog.csv\n",
      "Renamed 01_raw_w__DimAccount.csv to 01_raw_DimAccount.csv\n",
      "Renamed 01_raw_w__DimCurrency.csv to 01_raw_DimCurrency.csv\n",
      "Renamed 01_raw_w__DimCustomer.csv to 01_raw_DimCustomer.csv\n",
      "Renamed 01_raw_w__DimDate.csv to 01_raw_DimDate.csv\n",
      "Renamed 01_raw_w__DimDepartmentGroup.csv to 01_raw_DimDepartmentGroup.csv\n",
      "Renamed 01_raw_w__DimEmployee.csv to 01_raw_DimEmployee.csv\n",
      "Renamed 01_raw_w__DimGeography.csv to 01_raw_DimGeography.csv\n",
      "Renamed 01_raw_w__DimOrganization.csv to 01_raw_DimOrganization.csv\n",
      "Renamed 01_raw_w__DimProduct.csv to 01_raw_DimProduct.csv\n",
      "Renamed 01_raw_w__DimProductCategory.csv to 01_raw_DimProductCategory.csv\n",
      "Renamed 01_raw_w__DimProductSubcategory.csv to 01_raw_DimProductSubcategory.csv\n",
      "Renamed 01_raw_w__DimPromotion.csv to 01_raw_DimPromotion.csv\n",
      "Renamed 01_raw_w__DimReseller.csv to 01_raw_DimReseller.csv\n",
      "Renamed 01_raw_w__DimSalesReason.csv to 01_raw_DimSalesReason.csv\n",
      "Renamed 01_raw_w__DimSalesTerritory.csv to 01_raw_DimSalesTerritory.csv\n",
      "Renamed 01_raw_w__DimScenario.csv to 01_raw_DimScenario.csv\n",
      "Renamed 01_raw_w__FactAdditionalInternationalProductDescription.csv to 01_raw_FactAdditionalInternationalProductDescription.csv\n",
      "Renamed 01_raw_w__FactCallCenter.csv to 01_raw_FactCallCenter.csv\n",
      "Renamed 01_raw_w__FactCurrencyRate.csv to 01_raw_FactCurrencyRate.csv\n",
      "Renamed 01_raw_w__FactFinance.csv to 01_raw_FactFinance.csv\n",
      "Renamed 01_raw_w__FactInternetSales.csv to 01_raw_FactInternetSales.csv\n",
      "Renamed 01_raw_w__FactInternetSalesReason.csv to 01_raw_FactInternetSalesReason.csv\n",
      "Renamed 01_raw_w__FactProductInventory.csv to 01_raw_FactProductInventory.csv\n",
      "Renamed 01_raw_w__FactResellerSales.csv to 01_raw_FactResellerSales.csv\n",
      "Renamed 01_raw_w__FactSalesQuota.csv to 01_raw_FactSalesQuota.csv\n",
      "Renamed 01_raw_w__FactSurveyResponse.csv to 01_raw_FactSurveyResponse.csv\n",
      "Renamed 01_raw_w__NewFactCurrencyRate.csv to 01_raw_NewFactCurrencyRate.csv\n",
      "Renamed 01_raw_w__ProspectiveBuyer.csv to 01_raw_ProspectiveBuyer.csv\n",
      "Renamed 01_raw_w__sysdiagrams.csv to 01_raw_sysdiagrams.csv\n",
      "File renaming completed!\n"
     ]
    }
   ],
   "source": [
    "###########################################\n",
    "# REMOVE PREFIX IN FILENAME\n",
    "###########################################\n",
    "import os\n",
    "\n",
    "# Specify the directory where your files are located\n",
    "directory_path = 'c:\\\\Users\\\\erikf\\\\OneDrive\\\\projects\\\\01_GitHub_Projects\\\\04_Project_DBT\\\\my_project\\\\seeds'\n",
    "\n",
    "# List all files in the directory\n",
    "files = os.listdir(directory_path)\n",
    "\n",
    "# Iterate through each file and rename it\n",
    "for filename in files:\n",
    "    if filename.startswith('dbo.'):\n",
    "        new_filename = '01_raw_'+ filename[len('dbo.'):]\n",
    "        os.rename(os.path.join(directory_path, filename), os.path.join(directory_path, new_filename))\n",
    "        print(f\"Renamed {filename} to {new_filename}\")\n",
    "\n",
    "print(\"File renaming completed!\")"
   ]
  },
  {
   "cell_type": "code",
   "execution_count": 15,
   "metadata": {},
   "outputs": [
    {
     "name": "stdout",
     "output_type": "stream",
     "text": [
      "Created 02_stg_AdventureWorksDWBuildVersion.sql from 01_raw_AdventureWorksDWBuildVersion.csv\n",
      "Created 02_stg_DatabaseLog.sql from 01_raw_DatabaseLog.csv\n",
      "Created 02_stg_DimAccount.sql from 01_raw_DimAccount.csv\n",
      "Created 02_stg_DimCurrency.sql from 01_raw_DimCurrency.csv\n",
      "Created 02_stg_DimCustomer.sql from 01_raw_DimCustomer.csv\n",
      "Created 02_stg_DimDate.sql from 01_raw_DimDate.csv\n",
      "Created 02_stg_DimDepartmentGroup.sql from 01_raw_DimDepartmentGroup.csv\n",
      "Created 02_stg_DimEmployee.sql from 01_raw_DimEmployee.csv\n",
      "Created 02_stg_DimGeography.sql from 01_raw_DimGeography.csv\n",
      "Created 02_stg_DimOrganization.sql from 01_raw_DimOrganization.csv\n",
      "Created 02_stg_DimProduct.sql from 01_raw_DimProduct.csv\n",
      "Created 02_stg_DimProductCategory.sql from 01_raw_DimProductCategory.csv\n",
      "Created 02_stg_DimProductSubcategory.sql from 01_raw_DimProductSubcategory.csv\n",
      "Created 02_stg_DimPromotion.sql from 01_raw_DimPromotion.csv\n",
      "Created 02_stg_DimReseller.sql from 01_raw_DimReseller.csv\n",
      "Created 02_stg_DimSalesReason.sql from 01_raw_DimSalesReason.csv\n",
      "Created 02_stg_DimSalesTerritory.sql from 01_raw_DimSalesTerritory.csv\n",
      "Created 02_stg_DimScenario.sql from 01_raw_DimScenario.csv\n",
      "Created 02_stg_FactAdditionalInternationalProductDescription.sql from 01_raw_FactAdditionalInternationalProductDescription.csv\n",
      "Created 02_stg_FactCallCenter.sql from 01_raw_FactCallCenter.csv\n",
      "Created 02_stg_FactCurrencyRate.sql from 01_raw_FactCurrencyRate.csv\n",
      "Created 02_stg_FactFinance.sql from 01_raw_FactFinance.csv\n",
      "Created 02_stg_FactInternetSales.sql from 01_raw_FactInternetSales.csv\n",
      "Created 02_stg_FactInternetSalesReason.sql from 01_raw_FactInternetSalesReason.csv\n",
      "Created 02_stg_FactProductInventory.sql from 01_raw_FactProductInventory.csv\n",
      "Created 02_stg_FactResellerSales.sql from 01_raw_FactResellerSales.csv\n",
      "Created 02_stg_FactSalesQuota.sql from 01_raw_FactSalesQuota.csv\n",
      "Created 02_stg_FactSurveyResponse.sql from 01_raw_FactSurveyResponse.csv\n",
      "Created 02_stg_NewFactCurrencyRate.sql from 01_raw_NewFactCurrencyRate.csv\n",
      "Created 02_stg_ProspectiveBuyer.sql from 01_raw_ProspectiveBuyer.csv\n",
      "Created 02_stg_sysdiagrams.sql from 01_raw_sysdiagrams.csv\n",
      "File Creation completed!\n"
     ]
    }
   ],
   "source": [
    "# Specify the directory where your files are located\n",
    "directory_path = 'c:\\\\Users\\\\erikf\\\\OneDrive\\\\projects\\\\01_GitHub_Projects\\\\04_Project_DBT\\\\my_project\\\\seeds'\n",
    "\n",
    "# List all files in the directory\n",
    "files = os.listdir(directory_path)\n",
    "\n",
    "# Iterate through each file and rename it\n",
    "for filename in files:\n",
    "    if filename.startswith('01_raw'):\n",
    "        new_filename = '02_stg'+ filename[len('01_raw'):]\n",
    "        new_file_name_no_csv = new_filename[:-len('.csv')]\n",
    "        new_filename2 = new_file_name_no_csv + '.sql'\n",
    "        with open(new_filename2, \"w\") as file:\n",
    "            file.write(\"SELECT * FROM {{ ref(\" + \"'\"+ f\"{filename[:-len('.csv')]}\" + \"'\" + \")}}\")\n",
    "            pass \n",
    "        print(f\"Created {new_filename2} from {filename}\")\n",
    "\n",
    "print(\"File Creation completed!\")\n"
   ]
  },
  {
   "cell_type": "code",
   "execution_count": null,
   "metadata": {},
   "outputs": [],
   "source": []
  }
 ],
 "metadata": {
  "kernelspec": {
   "display_name": ".venv",
   "language": "python",
   "name": "python3"
  },
  "language_info": {
   "codemirror_mode": {
    "name": "ipython",
    "version": 3
   },
   "file_extension": ".py",
   "mimetype": "text/x-python",
   "name": "python",
   "nbconvert_exporter": "python",
   "pygments_lexer": "ipython3",
   "version": "3.11.9"
  }
 },
 "nbformat": 4,
 "nbformat_minor": 2
}
